{
 "cells": [
  {
   "cell_type": "code",
   "execution_count": 1,
   "metadata": {},
   "outputs": [],
   "source": [
    "import os\n",
    "import csv\n",
    "import pandas as pd\n",
    "import numpy as np"
   ]
  },
  {
   "cell_type": "code",
   "execution_count": 2,
   "metadata": {},
   "outputs": [],
   "source": [
    "ASSET_ID = 'Asset ID'\n",
    "CUSTOM_ID = 'Custom ID'\n",
    "ASSET_LABEL = 'Asset Labels'\n",
    "ASSET_TITLE = 'Asset Title'\n",
    "ALLOWED_FILE_EXTS = ['.csv']\n",
    "ASSETS_HEADERS = [ASSET_ID, CUSTOM_ID, ASSET_LABEL, ASSET_TITLE]"
   ]
  },
  {
   "cell_type": "code",
   "execution_count": 3,
   "metadata": {},
   "outputs": [],
   "source": [
    "DTYPES = {\n",
    "    ASSET_ID: np.str,\n",
    "    CUSTOM_ID: np.str,\n",
    "    ASSET_LABEL: np.str,\n",
    "    ASSET_TITLE: np.str\n",
    "}"
   ]
  },
  {
   "cell_type": "code",
   "execution_count": 4,
   "metadata": {},
   "outputs": [],
   "source": [
    "# Merges unique values from 2 columns\n",
    "# - x, y: columns for merging\n",
    "def merge_values(x, y):\n",
    "    data = []\n",
    "    if x != '':\n",
    "        data.append(x)\n",
    "\n",
    "    if y != '':\n",
    "        data.append(y)\n",
    "    return '|'.join(data)\n",
    "\n",
    "# Only get non blank value from 2 columns\n",
    "# - x, y: columns for pulling data\n",
    "def get_col_value(x, y):\n",
    "    if x != '':\n",
    "        return x\n",
    "\n",
    "    if y != '':\n",
    "        return y\n",
    "\n",
    "    return ''"
   ]
  },
  {
   "cell_type": "code",
   "execution_count": 5,
   "metadata": {},
   "outputs": [],
   "source": [
    "# Load all assets to one DataFrame\n",
    "# - indir: directory where assets can be found\n",
    "def load_assets(indir):\n",
    "    assets = pd.DataFrame()\n",
    "\n",
    "    for _file in os.listdir(indir):\n",
    "        _filepath = os.path.join(indir, _file)\n",
    "        filename, file_extension = os.path.splitext(_filepath)\n",
    "\n",
    "        if file_extension in ALLOWED_FILE_EXTS:\n",
    "            print('Pulling assets from {file}...'.format(file=_file))\n",
    "            df = pd.read_csv(_filepath, dtype=DTYPES).fillna('')\n",
    "\n",
    "            assets = pd.concat([assets, df])\n",
    "            del df\n",
    "            print('Done: Pulling assets from {file}.'.format(file=_file))\n",
    "        else:\n",
    "            print('{file} - cannot read file.'.format(file=_file))\n",
    "\n",
    "    assets = assets.sort_values(by=[ASSET_ID, CUSTOM_ID], na_position='last').fillna('')\n",
    "    assets = assets.drop_duplicates([ASSET_ID], keep='first')\n",
    "    \n",
    "    return assets[ASSETS_HEADERS]"
   ]
  },
  {
   "cell_type": "code",
   "execution_count": 6,
   "metadata": {},
   "outputs": [],
   "source": [
    "# Augment files using Pandas' Merge Dataframe function\n",
    "# Only fills in blank columns -- Asset Label & Asset Title\n",
    "# - source: directory where files for augmenting comes from\n",
    "# - assets_dir: directory where assets can be found\n",
    "# - outdir (optional, default: out): directory where output is written\n",
    "\n",
    "def augment_files(source, assets_dir, outdir='out'):\n",
    "    assets = load_assets(assets_dir)\n",
    "\n",
    "    if not os.path.exists(output_directory):\n",
    "        print('Creating output directory...')\n",
    "        os.makedirs(output_directory)\n",
    "        print('Done: Creating output directory.')\n",
    "        \n",
    "    for _file in os.listdir(source):\n",
    "        _filepath = os.path.join(source, _file)\n",
    "        filename, file_extension = os.path.splitext(_filepath)\n",
    "\n",
    "        if file_extension in ALLOWED_FILE_EXTS:\n",
    "            print('Processing {file}...'.format(file=_file))\n",
    "            df = pd.read_csv(_filepath, dtype=DTYPES).fillna('')\n",
    "\n",
    "            if not ASSET_LABEL in list(df.columns.values):\n",
    "                df[ASSET_LABEL] = ''\n",
    "\n",
    "            if not CUSTOM_ID in list(df.columns.values):\n",
    "                df[CUSTOM_ID] = ''\n",
    "\n",
    "            if not ASSET_TITLE in list(df.columns.values):\n",
    "                df[ASSET_TITLE] = ''\n",
    "                \n",
    "            headers = list(df.columns.values)\n",
    "            \n",
    "            merged_df = pd.merge(df, assets, on=ASSET_ID, how='left')\n",
    "            \n",
    "            merged_df[CUSTOM_ID] = merged_df.apply(\n",
    "                lambda row: merge_values(row[CUSTOM_ID + '_x'], row[CUSTOM_ID + '_y']), axis=1)\n",
    "            \n",
    "            merged_df[ASSET_LABEL] = merged_df.apply(\n",
    "                lambda row: get_col_value(row[ASSET_LABEL + '_x'], row[ASSET_LABEL + '_y']), axis=1)\n",
    "            \n",
    "            merged_df[ASSET_TITLE] = merged_df.apply(\n",
    "                lambda row: get_col_value(row[ASSET_TITLE + '_x'], row[ASSET_TITLE + '_y']), axis=1)\n",
    "            \n",
    "            print('Done: Processing {file}...'.format(file=_file))\n",
    "            print('Exporting {file}...'.format(file=_file))\n",
    "            \n",
    "            merged_df[headers].to_csv(os.path.join(outdir, _file), index=False)\n",
    "            del merged_df\n",
    "            \n",
    "            print('Done: Exporting {file}...'.format(file=_file))\n",
    "        else:\n",
    "            print('{file} - cannot augment file.'.format(file=_file))"
   ]
  },
  {
   "cell_type": "code",
   "execution_count": 7,
   "metadata": {},
   "outputs": [
    {
     "name": "stdout",
     "output_type": "stream",
     "text": [
      ".DS_Store - cannot read file.\n",
      "Pulling assets from Company - Report - January 2019.csv...\n",
      "Done: Pulling assets from Company - Report - January 2019.csv.\n",
      "Processing Company - Report - February 2019.csv...\n",
      "Done: Processing Company - Report - February 2019.csv...\n",
      "Exporting Company - Report - February 2019.csv...\n",
      "Done: Exporting Company - Report - February 2019.csv...\n"
     ]
    }
   ],
   "source": [
    "assets_directory = os.path.join('sample', 'in', 'assets')\n",
    "source_directory = os.path.join('sample', 'in', 'source')\n",
    "output_directory = os.path.join('sample', 'out')\n",
    "\n",
    "augment_files(source_directory, assets_directory, outdir=output_directory)"
   ]
  }
 ],
 "metadata": {
  "kernelspec": {
   "display_name": "Python 3",
   "language": "python",
   "name": "python3"
  },
  "language_info": {
   "codemirror_mode": {
    "name": "ipython",
    "version": 3
   },
   "file_extension": ".py",
   "mimetype": "text/x-python",
   "name": "python",
   "nbconvert_exporter": "python",
   "pygments_lexer": "ipython3",
   "version": "3.6.5"
  }
 },
 "nbformat": 4,
 "nbformat_minor": 2
}
